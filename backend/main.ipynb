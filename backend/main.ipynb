{
 "cells": [
  {
   "cell_type": "code",
   "execution_count": 1,
   "metadata": {},
   "outputs": [
    {
     "name": "stdout",
     "output_type": "stream",
     "text": [
      "Collecting openai\n",
      "  Downloading openai-1.66.3-py3-none-any.whl.metadata (25 kB)\n",
      "Collecting anyio<5,>=3.5.0 (from openai)\n",
      "  Downloading anyio-4.8.0-py3-none-any.whl.metadata (4.6 kB)\n",
      "Collecting distro<2,>=1.7.0 (from openai)\n",
      "  Downloading distro-1.9.0-py3-none-any.whl.metadata (6.8 kB)\n",
      "Collecting httpx<1,>=0.23.0 (from openai)\n",
      "  Downloading httpx-0.28.1-py3-none-any.whl.metadata (7.1 kB)\n",
      "Collecting jiter<1,>=0.4.0 (from openai)\n",
      "  Downloading jiter-0.9.0-cp311-cp311-win_amd64.whl.metadata (5.3 kB)\n",
      "Collecting pydantic<3,>=1.9.0 (from openai)\n",
      "  Downloading pydantic-2.10.6-py3-none-any.whl.metadata (30 kB)\n",
      "Collecting sniffio (from openai)\n",
      "  Downloading sniffio-1.3.1-py3-none-any.whl.metadata (3.9 kB)\n",
      "Requirement already satisfied: tqdm>4 in c:\\users\\naida\\miniconda3\\envs\\air\\lib\\site-packages (from openai) (4.67.1)\n",
      "Requirement already satisfied: typing-extensions<5,>=4.11 in c:\\users\\naida\\appdata\\roaming\\python\\python311\\site-packages (from openai) (4.11.0)\n",
      "Requirement already satisfied: idna>=2.8 in c:\\users\\naida\\miniconda3\\envs\\air\\lib\\site-packages (from anyio<5,>=3.5.0->openai) (3.10)\n",
      "Requirement already satisfied: certifi in c:\\users\\naida\\miniconda3\\envs\\air\\lib\\site-packages (from httpx<1,>=0.23.0->openai) (2024.8.30)\n",
      "Collecting httpcore==1.* (from httpx<1,>=0.23.0->openai)\n",
      "  Downloading httpcore-1.0.7-py3-none-any.whl.metadata (21 kB)\n",
      "Collecting h11<0.15,>=0.13 (from httpcore==1.*->httpx<1,>=0.23.0->openai)\n",
      "  Downloading h11-0.14.0-py3-none-any.whl.metadata (8.2 kB)\n",
      "Collecting annotated-types>=0.6.0 (from pydantic<3,>=1.9.0->openai)\n",
      "  Downloading annotated_types-0.7.0-py3-none-any.whl.metadata (15 kB)\n",
      "Collecting pydantic-core==2.27.2 (from pydantic<3,>=1.9.0->openai)\n",
      "  Downloading pydantic_core-2.27.2-cp311-cp311-win_amd64.whl.metadata (6.7 kB)\n",
      "Collecting typing-extensions<5,>=4.11 (from openai)\n",
      "  Using cached typing_extensions-4.12.2-py3-none-any.whl.metadata (3.0 kB)\n",
      "Requirement already satisfied: colorama in c:\\users\\naida\\appdata\\roaming\\python\\python311\\site-packages (from tqdm>4->openai) (0.4.6)\n",
      "Downloading openai-1.66.3-py3-none-any.whl (567 kB)\n",
      "   ---------------------------------------- 0.0/567.4 kB ? eta -:--:--\n",
      "   ---------------------------------------- 567.4/567.4 kB 6.5 MB/s eta 0:00:00\n",
      "Downloading anyio-4.8.0-py3-none-any.whl (96 kB)\n",
      "Downloading distro-1.9.0-py3-none-any.whl (20 kB)\n",
      "Downloading httpx-0.28.1-py3-none-any.whl (73 kB)\n",
      "Downloading httpcore-1.0.7-py3-none-any.whl (78 kB)\n",
      "Downloading jiter-0.9.0-cp311-cp311-win_amd64.whl (210 kB)\n",
      "Downloading pydantic-2.10.6-py3-none-any.whl (431 kB)\n",
      "Downloading pydantic_core-2.27.2-cp311-cp311-win_amd64.whl (2.0 MB)\n",
      "   ---------------------------------------- 0.0/2.0 MB ? eta -:--:--\n",
      "   ------------------------------------- -- 1.8/2.0 MB 9.1 MB/s eta 0:00:01\n",
      "   ---------------------------------------- 2.0/2.0 MB 8.5 MB/s eta 0:00:00\n",
      "Downloading sniffio-1.3.1-py3-none-any.whl (10 kB)\n",
      "Using cached typing_extensions-4.12.2-py3-none-any.whl (37 kB)\n",
      "Downloading annotated_types-0.7.0-py3-none-any.whl (13 kB)\n",
      "Downloading h11-0.14.0-py3-none-any.whl (58 kB)\n",
      "Installing collected packages: typing-extensions, sniffio, jiter, h11, distro, annotated-types, pydantic-core, httpcore, anyio, pydantic, httpx, openai\n",
      "  Attempting uninstall: typing-extensions\n",
      "    Found existing installation: typing_extensions 4.11.0\n",
      "    Uninstalling typing_extensions-4.11.0:\n",
      "      Successfully uninstalled typing_extensions-4.11.0\n",
      "Successfully installed annotated-types-0.7.0 anyio-4.8.0 distro-1.9.0 h11-0.14.0 httpcore-1.0.7 httpx-0.28.1 jiter-0.9.0 openai-1.66.3 pydantic-2.10.6 pydantic-core-2.27.2 sniffio-1.3.1 typing-extensions-4.12.2\n",
      "Note: you may need to restart the kernel to use updated packages.\n"
     ]
    }
   ],
   "source": [
    "%pip install openai"
   ]
  },
  {
   "cell_type": "code",
   "execution_count": 6,
   "metadata": {},
   "outputs": [],
   "source": [
    "from openai import OpenAI\n",
    "import config"
   ]
  },
  {
   "cell_type": "code",
   "execution_count": 7,
   "metadata": {},
   "outputs": [],
   "source": [
    "client = OpenAI(\n",
    "    api_key=config.custom_api_key\n",
    ")"
   ]
  },
  {
   "cell_type": "code",
   "execution_count": 8,
   "metadata": {},
   "outputs": [],
   "source": [
    "def chat_with_gpt(prompt):\n",
    "    completion = client.chat.completions.create(\n",
    "        model=\"gpt-4o\",\n",
    "        messages=[\n",
    "            {\"role\": \"system\", \"content\": \"You are a helpful assistant.\"},\n",
    "            {\"role\": \"user\", \"content\": prompt}\n",
    "        ]\n",
    "    )\n",
    "    return completion.choices[0].message.content"
   ]
  },
  {
   "cell_type": "code",
   "execution_count": null,
   "metadata": {},
   "outputs": [
    {
     "name": "stdout",
     "output_type": "stream",
     "text": [
      "Chatbot: The capital of Bosnia and Herzegovina is Sarajevo.\n"
     ]
    }
   ],
   "source": [
    "# Text example\n",
    "user_input = \"What is the capital of Bosnia and Herzegovina\" \n",
    "response = chat_with_gpt(user_input)\n",
    "print(f\"Chatbot: {response}\")"
   ]
  },
  {
   "cell_type": "code",
   "execution_count": null,
   "metadata": {},
   "outputs": [
    {
     "name": "stdout",
     "output_type": "stream",
     "text": [
      "The image depicts a scenic landscape with a wooden boardwalk leading through a lush green field. The sky is blue with scattered clouds, creating a serene and open atmosphere. The surrounding area is filled with tall grass and some bushes, suggesting a natural or park setting.\n"
     ]
    }
   ],
   "source": [
    "# Image example\n",
    "image_url = \"https://upload.wikimedia.org/wikipedia/commons/thumb/d/dd/Gfp-wisconsin-madison-the-nature-boardwalk.jpg/2560px-Gfp-wisconsin-madison-the-nature-boardwalk.jpg\"\n",
    "\n",
    "response = client.chat.completions.create(\n",
    "    model=\"gpt-4o\", \n",
    "    messages=[{\n",
    "        \"role\": \"user\",\n",
    "        \"content\": [\n",
    "            {\"type\": \"text\", \"text\": \"What's in this image?\"},\n",
    "            {\n",
    "                \"type\": \"image_url\", \n",
    "                \"image_url\": {\n",
    "                    \"url\": image_url,\n",
    "                },\n",
    "            },\n",
    "        ],\n",
    "    }],\n",
    ")\n",
    "\n",
    "print(response.choices[0].message.content)"
   ]
  },
  {
   "cell_type": "code",
   "execution_count": 9,
   "metadata": {},
   "outputs": [],
   "source": [
    "# Prompt templates\n",
    "import utils\n",
    "import base64\n",
    "import os\n",
    "\n",
    "system_prompt = \"\"\"You are a UX expert for web applications.\n",
    "Your task is to identify usability issues with the\n",
    "information you get for an application’s view.\n",
    "An example of a usability issue could be: ‘Lack of\n",
    "visual feedback on user interactions’.\n",
    "Respond using app domain language; you must not use\n",
    "technical terminology or mention code details.\n",
    "Enumerate the problems identified; add an empty\n",
    "paragraph after each enumeration; no preceding\n",
    "or following text.\"\"\"\n",
    "\n",
    "app_overview = utils.app_overview\n",
    "user_task = utils.user_task\n",
    "source_code = utils.source_code\n",
    "\n",
    "user_prompt = f\"\"\"I have a python web application written in Django about: {app_overview}\n",
    "The user’s task in this app view is about: {user_task}.\n",
    "An image of the app view is provided.\n",
    "Below is the incomplete code for the app view.\n",
    "This code includes the view’s user interface.\n",
    "Source Code:\n",
    "{source_code}\"\"\"\n"
   ]
  },
  {
   "cell_type": "code",
   "execution_count": 10,
   "metadata": {},
   "outputs": [],
   "source": [
    "def encode_image(image_path):\n",
    "    with open(image_path, \"rb\") as image_file:\n",
    "        return base64.b64encode(image_file.read()).decode(\"utf-8\")\n",
    "\n",
    "def detect_usability_issues(image_filename):\n",
    "    image_path = os.path.join(os.pardir, \"images\", image_filename) \n",
    "    \n",
    "    if not os.path.exists(image_path):\n",
    "        raise FileNotFoundError(f\"Error: The file '{image_path}' was not found. Check the path.\")\n",
    "\n",
    "    base64_image = encode_image(image_path)\n",
    "\n",
    "    response = client.chat.completions.create(\n",
    "        model=\"gpt-4o\",\n",
    "        messages=[\n",
    "            {\"role\": \"system\", \"content\": system_prompt},\n",
    "            {\n",
    "                \"role\": \"user\",\n",
    "                \"content\": [\n",
    "                    {\"type\": \"text\", \"text\": user_prompt},\n",
    "                    {\n",
    "                        \"type\": \"image_url\",\n",
    "                        \"image_url\": {\n",
    "                            \"url\": f\"data:image/png;base64,{base64_image}\",\n",
    "                        },\n",
    "                    },\n",
    "                ],\n",
    "            },\n",
    "        ],\n",
    "    )\n",
    "\n",
    "    print(response.choices[0].message.content)"
   ]
  },
  {
   "cell_type": "code",
   "execution_count": 16,
   "metadata": {},
   "outputs": [
    {
     "name": "stdout",
     "output_type": "stream",
     "text": [
      "1. **Lack of Visual Feedback for Links and Buttons**: The \"View\" buttons may not provide enough visual feedback on interaction, such as a hover effect to indicate clickability.\n",
      "\n",
      "2. **Inconsistent Image Aspect Ratio**: Course images could have inconsistent aspect ratios, affecting the overall alignment and visual consistency.\n",
      "\n",
      "3. **Text Alignment and Spacing**: Card text description spacing seems inconsistent, which can make reading more difficult.\n",
      "\n",
      "4. **Responsive Design Issues**: It is unclear if the cards adjust well on different screen sizes due to fixed dimensions within inline styles.\n",
      "\n",
      "5. **Overuse of Inline Styles**: The extensive use of inline styles can hinder design adjustments and maintenance.\n",
      "\n",
      "6. **Insufficient Contrast for Text**: The contrast between text and background might not be adequate for readability in some cases, especially for accessibility.\n",
      "\n",
      "7. **Limited Course Information Display**: The course names and summaries may truncate important information, limiting user understanding without clicking.\n",
      "\n",
      "8. **No Option for Sorting or Filtering**: The absence of sorting or filtering options for courses can make navigation cumbersome if the list is extensive.\n",
      "\n",
      "9. **Empty State Handling**: The message \"There are no courses yet!\" is not styled distinctively from the other content, which could lead to a lack of prominence.\n",
      "\n",
      "10. **Multiple Buttons for Similar Actions**: The existence of different URL paths for students and tutors can be streamlined into a single action button with conditional logic handled internally.\n"
     ]
    }
   ],
   "source": [
    "# Example usage\n",
    "detect_usability_issues(\"all_courses.png\") "
   ]
  },
  {
   "cell_type": "code",
   "execution_count": 11,
   "metadata": {},
   "outputs": [],
   "source": [
    "# Addition of the Nielsen's 10 general principles for interaction design\n",
    "\n",
    "system_prompt = f\"\"\"You are a UX expert for web applications. Your task is to identify usability\n",
    "issues with the information you get for an application’s view. For the identification of usability issues,\n",
    "you should use the following Nielsen’s usability principles:\n",
    "\n",
    "NS01—Visibility of system status;\n",
    "NS02—User control and freedom;\n",
    "NS03—Help users recognize, diagnose, and recover from from errors;\n",
    "NS04—Consistency and standards;\n",
    "NS05—Recognition rather than recall;\n",
    "NS06—Match Between System and The Real World;\n",
    "NS07—Error Prevention;\n",
    "NS08—Flexibility and Efficiency of Use;\n",
    "NS09—Aesthetic and Minimalist Design;\n",
    "NS10—Help and Documentation.\n",
    "\n",
    "A description of the Nielsen's usability principles is given in {utils.nielsen_principles}.\n",
    "\n",
    "Based on the above information, analyze and evaluate the website’s performance referencing the information you get for an application’s view,\n",
    "which includes the image of the web app, code, app overview and user task, according to Nielsen’s usability\n",
    "principles. Rate each area on an integer scale from e to 5, adjusting the score up or down\n",
    "from a baseline of 3 points based on significant differences. Finally, provide justifications\n",
    "for each rating and summarize the overall evaluation.\n",
    "Respond using app domain language; you must not use\n",
    "technical terminology or mention code details.\n",
    "Enumerate the problems identified; add an empty\n",
    "paragraph after each enumeration; no preceding\n",
    "or following text.\"\"\"\n",
    "\n",
    "app_overview = utils.app_overview\n",
    "user_task = utils.user_task\n",
    "source_code = utils.source_code\n",
    "\n",
    "user_prompt = f\"\"\"I have a web application written about: {app_overview}\n",
    "The user’s task in this app view is about: {user_task}.\n",
    "An image of the app view is provided.\n",
    "Below is the incomplete code for the app view.\n",
    "This code includes the view’s user interface.\n",
    "Source Code:\n",
    "{source_code}\"\"\"\n"
   ]
  },
  {
   "cell_type": "code",
   "execution_count": 12,
   "metadata": {},
   "outputs": [
    {
     "name": "stdout",
     "output_type": "stream",
     "text": [
      "Evaluation of the web application's view on Nielsen's usability principles:\n",
      "\n",
      "1. **Visibility of System Status (NS01):** 4/5\n",
      "\n",
      "   The system status is well conveyed by displaying available courses clearly with images, titles, and descriptions. However, there is no loading indicator for cases when the list is being fetched which could enhance status visibility.\n",
      "\n",
      "2. **User Control and Freedom (NS02):** 3/5\n",
      "\n",
      "   Users can view courses through clearly marked buttons, but there is no visible option to filter or sort courses, which could provide better control and freedom in navigation.\n",
      "\n",
      "3. **Help Users Recognize, Diagnose, and Recover from Errors (NS03):** 3/5\n",
      "\n",
      "   The message \"There are no courses yet!\" is clear if no courses are available. However, there could be more guidance on refreshing or checking again later to improve error recovery.\n",
      "\n",
      "4. **Consistency and Standards (NS04):** 4/5\n",
      "\n",
      "   The design is consistent in terms of layout and button styling. However, the use of different column classes (cols-sm-6, col-md-4, col-lg-3) for the card layout seems inconsistent without clear differentiation in usage.\n",
      "\n",
      "5. **Recognition Rather than Recall (NS05):** 4/5\n",
      "\n",
      "   Course information is presented clearly, minimizing the need for users to recall details from memory. Enhancement could be made by providing a search bar.\n",
      "\n",
      "6. **Match Between System and the Real World (NS06):** 5/5\n",
      "\n",
      "   The interface uses familiar icons and terminology (e.g., courses, view buttons) which aligns well with real-world contexts.\n",
      "\n",
      "7. **Error Prevention (NS07):** 3/5\n",
      "\n",
      "   The design does not include mechanisms to prevent errors, such as a confirmation step before visiting a course. Adding such features could improve this aspect.\n",
      "\n",
      "8. **Flexibility and Efficiency of Use (NS08):** 3/5\n",
      "\n",
      "   Basic efficiency is provided, but there is no apparent use of shortcuts or customization options that could facilitate more effective use by frequent users.\n",
      "\n",
      "9. **Aesthetic and Minimalist Design (NS09):** 4/5\n",
      "\n",
      "   The design is clean and minimalist, making it easy to focus on the important content. However, some spacing adjustments could be made for better visual balance.\n",
      "\n",
      "10. **Help and Documentation (NS10):** 3/5\n",
      "\n",
      "    There is no visible help or documentation feature in the view, which would be beneficial for users unfamiliar with the interface or facing issues.\n",
      "\n",
      "**Summary:** \n",
      "\n",
      "The application does a satisfactory job presenting available courses with a clean and intuitive layout. While there is strong use of familiar conventions and minimal visual clutter, areas like user control, error prevention, and help documentation could be improved to enhance usability further.\n"
     ]
    }
   ],
   "source": [
    "# Example usage\n",
    "detect_usability_issues(\"all_courses.png\") "
   ]
  }
 ],
 "metadata": {
  "kernelspec": {
   "display_name": "Python 3",
   "language": "python",
   "name": "python3"
  },
  "language_info": {
   "codemirror_mode": {
    "name": "ipython",
    "version": 3
   },
   "file_extension": ".py",
   "mimetype": "text/x-python",
   "name": "python",
   "nbconvert_exporter": "python",
   "pygments_lexer": "ipython3",
   "version": "3.11.5"
  }
 },
 "nbformat": 4,
 "nbformat_minor": 2
}
