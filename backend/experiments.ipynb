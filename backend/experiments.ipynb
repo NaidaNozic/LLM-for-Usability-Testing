{
 "cells": [
  {
   "cell_type": "code",
   "execution_count": 1,
   "metadata": {},
   "outputs": [
    {
     "name": "stdout",
     "output_type": "stream",
     "text": [
      "Requirement already satisfied: openai in c:\\users\\naida\\miniconda3\\envs\\air\\lib\\site-packages (1.66.3)\n",
      "Requirement already satisfied: anyio<5,>=3.5.0 in c:\\users\\naida\\miniconda3\\envs\\air\\lib\\site-packages (from openai) (4.8.0)\n",
      "Requirement already satisfied: distro<2,>=1.7.0 in c:\\users\\naida\\miniconda3\\envs\\air\\lib\\site-packages (from openai) (1.9.0)\n",
      "Requirement already satisfied: httpx<1,>=0.23.0 in c:\\users\\naida\\miniconda3\\envs\\air\\lib\\site-packages (from openai) (0.28.1)\n",
      "Requirement already satisfied: jiter<1,>=0.4.0 in c:\\users\\naida\\miniconda3\\envs\\air\\lib\\site-packages (from openai) (0.9.0)\n",
      "Requirement already satisfied: pydantic<3,>=1.9.0 in c:\\users\\naida\\miniconda3\\envs\\air\\lib\\site-packages (from openai) (2.10.6)\n",
      "Requirement already satisfied: sniffio in c:\\users\\naida\\miniconda3\\envs\\air\\lib\\site-packages (from openai) (1.3.1)\n",
      "Requirement already satisfied: tqdm>4 in c:\\users\\naida\\miniconda3\\envs\\air\\lib\\site-packages (from openai) (4.67.1)\n",
      "Requirement already satisfied: typing-extensions<5,>=4.11 in c:\\users\\naida\\miniconda3\\envs\\air\\lib\\site-packages (from openai) (4.12.2)\n",
      "Requirement already satisfied: idna>=2.8 in c:\\users\\naida\\miniconda3\\envs\\air\\lib\\site-packages (from anyio<5,>=3.5.0->openai) (3.10)\n",
      "Requirement already satisfied: certifi in c:\\users\\naida\\miniconda3\\envs\\air\\lib\\site-packages (from httpx<1,>=0.23.0->openai) (2024.8.30)\n",
      "Requirement already satisfied: httpcore==1.* in c:\\users\\naida\\miniconda3\\envs\\air\\lib\\site-packages (from httpx<1,>=0.23.0->openai) (1.0.7)\n",
      "Requirement already satisfied: h11<0.15,>=0.13 in c:\\users\\naida\\miniconda3\\envs\\air\\lib\\site-packages (from httpcore==1.*->httpx<1,>=0.23.0->openai) (0.14.0)\n",
      "Requirement already satisfied: annotated-types>=0.6.0 in c:\\users\\naida\\miniconda3\\envs\\air\\lib\\site-packages (from pydantic<3,>=1.9.0->openai) (0.7.0)\n",
      "Requirement already satisfied: pydantic-core==2.27.2 in c:\\users\\naida\\miniconda3\\envs\\air\\lib\\site-packages (from pydantic<3,>=1.9.0->openai) (2.27.2)\n",
      "Requirement already satisfied: colorama in c:\\users\\naida\\appdata\\roaming\\python\\python311\\site-packages (from tqdm>4->openai) (0.4.6)\n",
      "Note: you may need to restart the kernel to use updated packages.\n"
     ]
    }
   ],
   "source": [
    "%pip install openai"
   ]
  },
  {
   "cell_type": "code",
   "execution_count": 10,
   "metadata": {},
   "outputs": [],
   "source": [
    "from openai import OpenAI\n",
    "import config"
   ]
  },
  {
   "cell_type": "code",
   "execution_count": 11,
   "metadata": {},
   "outputs": [],
   "source": [
    "client = OpenAI(\n",
    "    api_key=config.custom_api_key\n",
    ")"
   ]
  },
  {
   "cell_type": "code",
   "execution_count": 12,
   "metadata": {},
   "outputs": [],
   "source": [
    "# Prompt templates\n",
    "import utils\n",
    "import base64\n",
    "import os"
   ]
  },
  {
   "cell_type": "code",
   "execution_count": 4,
   "metadata": {},
   "outputs": [],
   "source": [
    "def chat_with_gpt(prompt):\n",
    "    completion = client.chat.completions.create(\n",
    "        model=\"gpt-4o\",\n",
    "        messages=[\n",
    "            {\"role\": \"system\", \"content\": \"You are a helpful assistant.\"},\n",
    "            {\"role\": \"user\", \"content\": prompt}\n",
    "        ]\n",
    "    )\n",
    "    return completion.choices[0].message.content"
   ]
  },
  {
   "cell_type": "code",
   "execution_count": 5,
   "metadata": {},
   "outputs": [
    {
     "name": "stdout",
     "output_type": "stream",
     "text": [
      "Chatbot: The capital of Bosnia and Herzegovina is Sarajevo.\n"
     ]
    }
   ],
   "source": [
    "# Text example\n",
    "user_input = \"What is the capital of Bosnia and Herzegovina\" \n",
    "response = chat_with_gpt(user_input)\n",
    "print(f\"Chatbot: {response}\")"
   ]
  },
  {
   "cell_type": "code",
   "execution_count": null,
   "metadata": {},
   "outputs": [
    {
     "name": "stdout",
     "output_type": "stream",
     "text": [
      "The image depicts a scenic landscape with a wooden boardwalk leading through a lush green field. The sky is blue with scattered clouds, creating a serene and open atmosphere. The surrounding area is filled with tall grass and some bushes, suggesting a natural or park setting.\n"
     ]
    }
   ],
   "source": [
    "# Image example\n",
    "image_url = \"https://upload.wikimedia.org/wikipedia/commons/thumb/d/dd/Gfp-wisconsin-madison-the-nature-boardwalk.jpg/2560px-Gfp-wisconsin-madison-the-nature-boardwalk.jpg\"\n",
    "\n",
    "response = client.chat.completions.create(\n",
    "    model=\"gpt-4o\", \n",
    "    messages=[{\n",
    "        \"role\": \"user\",\n",
    "        \"content\": [\n",
    "            {\"type\": \"text\", \"text\": \"What's in this image?\"},\n",
    "            {\n",
    "                \"type\": \"image_url\", \n",
    "                \"image_url\": {\n",
    "                    \"url\": image_url,\n",
    "                },\n",
    "            },\n",
    "        ],\n",
    "    }],\n",
    ")\n",
    "\n",
    "print(response.choices[0].message.content)"
   ]
  },
  {
   "cell_type": "code",
   "execution_count": null,
   "metadata": {},
   "outputs": [],
   "source": [
    "system_prompt = \"\"\"You are a UX expert for web applications.\n",
    "Your task is to identify usability issues with the\n",
    "information you get for an application’s view.\n",
    "An example of a usability issue could be: ‘Lack of\n",
    "visual feedback on user interactions’.\n",
    "Respond using app domain language; you must not use\n",
    "technical terminology or mention code details.\n",
    "Enumerate the problems identified; add an empty\n",
    "paragraph after each enumeration; no preceding\n",
    "or following text.\"\"\"\n",
    "\n",
    "app_overview = utils.app_overview\n",
    "user_task = utils.user_task\n",
    "source_code = utils.source_code\n",
    "\n",
    "user_prompt = f\"\"\"I have a python web application written in Django about: {app_overview}\n",
    "The user’s task in this app view is about: {user_task}.\n",
    "An image of the app view is provided.\n",
    "Below is the incomplete code for the app view.\n",
    "This code includes the view’s user interface.\n",
    "Source Code:\n",
    "{source_code}\"\"\"\n"
   ]
  },
  {
   "cell_type": "code",
   "execution_count": 5,
   "metadata": {},
   "outputs": [],
   "source": [
    "def encode_image(image_path):\n",
    "    with open(image_path, \"rb\") as image_file:\n",
    "        return base64.b64encode(image_file.read()).decode(\"utf-8\")\n",
    "\n",
    "def detect_usability_issues(image_filename):\n",
    "    image_path = os.path.join(os.pardir, \"images\", image_filename) \n",
    "    \n",
    "    if not os.path.exists(image_path):\n",
    "        raise FileNotFoundError(f\"Error: The file '{image_path}' was not found. Check the path.\")\n",
    "\n",
    "    base64_image = encode_image(image_path)\n",
    "\n",
    "    response = client.chat.completions.create(\n",
    "        model=\"gpt-4o\",\n",
    "        messages=[\n",
    "            {\"role\": \"system\", \"content\": system_prompt},\n",
    "            {\n",
    "                \"role\": \"user\",\n",
    "                \"content\": [\n",
    "                    {\"type\": \"text\", \"text\": user_prompt},\n",
    "                    {\n",
    "                        \"type\": \"image_url\",\n",
    "                        \"image_url\": {\n",
    "                            \"url\": f\"data:image/png;base64,{base64_image}\",\n",
    "                        },\n",
    "                    },\n",
    "                ],\n",
    "            },\n",
    "        ],\n",
    "    )\n",
    "\n",
    "    print(response.choices[0].message.content)"
   ]
  },
  {
   "cell_type": "code",
   "execution_count": 16,
   "metadata": {},
   "outputs": [
    {
     "name": "stdout",
     "output_type": "stream",
     "text": [
      "1. **Lack of Visual Feedback for Links and Buttons**: The \"View\" buttons may not provide enough visual feedback on interaction, such as a hover effect to indicate clickability.\n",
      "\n",
      "2. **Inconsistent Image Aspect Ratio**: Course images could have inconsistent aspect ratios, affecting the overall alignment and visual consistency.\n",
      "\n",
      "3. **Text Alignment and Spacing**: Card text description spacing seems inconsistent, which can make reading more difficult.\n",
      "\n",
      "4. **Responsive Design Issues**: It is unclear if the cards adjust well on different screen sizes due to fixed dimensions within inline styles.\n",
      "\n",
      "5. **Overuse of Inline Styles**: The extensive use of inline styles can hinder design adjustments and maintenance.\n",
      "\n",
      "6. **Insufficient Contrast for Text**: The contrast between text and background might not be adequate for readability in some cases, especially for accessibility.\n",
      "\n",
      "7. **Limited Course Information Display**: The course names and summaries may truncate important information, limiting user understanding without clicking.\n",
      "\n",
      "8. **No Option for Sorting or Filtering**: The absence of sorting or filtering options for courses can make navigation cumbersome if the list is extensive.\n",
      "\n",
      "9. **Empty State Handling**: The message \"There are no courses yet!\" is not styled distinctively from the other content, which could lead to a lack of prominence.\n",
      "\n",
      "10. **Multiple Buttons for Similar Actions**: The existence of different URL paths for students and tutors can be streamlined into a single action button with conditional logic handled internally.\n"
     ]
    }
   ],
   "source": [
    "# Example usage\n",
    "detect_usability_issues(\"all_courses.png\") "
   ]
  },
  {
   "cell_type": "code",
   "execution_count": 11,
   "metadata": {},
   "outputs": [],
   "source": [
    "# Addition of the Nielsen's 10 general principles for interaction design\n",
    "\n",
    "system_prompt = f\"\"\"You are a UX expert for web applications. Your task is to identify usability\n",
    "issues with the information you get for an application’s view. For the identification of usability issues,\n",
    "you should use the following Nielsen’s usability principles:\n",
    "\n",
    "NS01—Visibility of system status;\n",
    "NS02—User control and freedom;\n",
    "NS03—Help users recognize, diagnose, and recover from from errors;\n",
    "NS04—Consistency and standards;\n",
    "NS05—Recognition rather than recall;\n",
    "NS06—Match Between System and The Real World;\n",
    "NS07—Error Prevention;\n",
    "NS08—Flexibility and Efficiency of Use;\n",
    "NS09—Aesthetic and Minimalist Design;\n",
    "NS10—Help and Documentation.\n",
    "\n",
    "A description of the Nielsen's usability principles is given in {utils.nielsen_principles}.\n",
    "\n",
    "Based on the above information, analyze and evaluate the website’s performance referencing the information you get for an application’s view,\n",
    "which includes the image of the web app, code, app overview and user task, according to Nielsen’s usability\n",
    "principles. Rate each area on an integer scale from e to 5, adjusting the score up or down\n",
    "from a baseline of 3 points based on significant differences. Finally, provide justifications\n",
    "for each rating and summarize the overall evaluation.\n",
    "Respond using app domain language; you must not use\n",
    "technical terminology or mention code details.\n",
    "Enumerate the problems identified; add an empty\n",
    "paragraph after each enumeration; no preceding\n",
    "or following text.\"\"\"\n",
    "\n",
    "app_overview = utils.app_overview\n",
    "user_task = utils.user_task\n",
    "source_code = utils.source_code\n",
    "\n",
    "user_prompt = f\"\"\"I have a web application written about: {app_overview}\n",
    "The user’s task in this app view is about: {user_task}.\n",
    "An image of the app view is provided.\n",
    "Below is the incomplete code for the app view.\n",
    "This code includes the view’s user interface.\n",
    "Source Code:\n",
    "{source_code}\"\"\"\n"
   ]
  },
  {
   "cell_type": "code",
   "execution_count": 12,
   "metadata": {},
   "outputs": [
    {
     "name": "stdout",
     "output_type": "stream",
     "text": [
      "Evaluation of the web application's view on Nielsen's usability principles:\n",
      "\n",
      "1. **Visibility of System Status (NS01):** 4/5\n",
      "\n",
      "   The system status is well conveyed by displaying available courses clearly with images, titles, and descriptions. However, there is no loading indicator for cases when the list is being fetched which could enhance status visibility.\n",
      "\n",
      "2. **User Control and Freedom (NS02):** 3/5\n",
      "\n",
      "   Users can view courses through clearly marked buttons, but there is no visible option to filter or sort courses, which could provide better control and freedom in navigation.\n",
      "\n",
      "3. **Help Users Recognize, Diagnose, and Recover from Errors (NS03):** 3/5\n",
      "\n",
      "   The message \"There are no courses yet!\" is clear if no courses are available. However, there could be more guidance on refreshing or checking again later to improve error recovery.\n",
      "\n",
      "4. **Consistency and Standards (NS04):** 4/5\n",
      "\n",
      "   The design is consistent in terms of layout and button styling. However, the use of different column classes (cols-sm-6, col-md-4, col-lg-3) for the card layout seems inconsistent without clear differentiation in usage.\n",
      "\n",
      "5. **Recognition Rather than Recall (NS05):** 4/5\n",
      "\n",
      "   Course information is presented clearly, minimizing the need for users to recall details from memory. Enhancement could be made by providing a search bar.\n",
      "\n",
      "6. **Match Between System and the Real World (NS06):** 5/5\n",
      "\n",
      "   The interface uses familiar icons and terminology (e.g., courses, view buttons) which aligns well with real-world contexts.\n",
      "\n",
      "7. **Error Prevention (NS07):** 3/5\n",
      "\n",
      "   The design does not include mechanisms to prevent errors, such as a confirmation step before visiting a course. Adding such features could improve this aspect.\n",
      "\n",
      "8. **Flexibility and Efficiency of Use (NS08):** 3/5\n",
      "\n",
      "   Basic efficiency is provided, but there is no apparent use of shortcuts or customization options that could facilitate more effective use by frequent users.\n",
      "\n",
      "9. **Aesthetic and Minimalist Design (NS09):** 4/5\n",
      "\n",
      "   The design is clean and minimalist, making it easy to focus on the important content. However, some spacing adjustments could be made for better visual balance.\n",
      "\n",
      "10. **Help and Documentation (NS10):** 3/5\n",
      "\n",
      "    There is no visible help or documentation feature in the view, which would be beneficial for users unfamiliar with the interface or facing issues.\n",
      "\n",
      "**Summary:** \n",
      "\n",
      "The application does a satisfactory job presenting available courses with a clean and intuitive layout. While there is strong use of familiar conventions and minimal visual clutter, areas like user control, error prevention, and help documentation could be improved to enhance usability further.\n"
     ]
    }
   ],
   "source": [
    "# Example usage\n",
    "detect_usability_issues(\"all_courses.png\") "
   ]
  },
  {
   "cell_type": "code",
   "execution_count": 16,
   "metadata": {},
   "outputs": [],
   "source": [
    " # Cognitive Walkthrough\n",
    "system_prompt_walkthrough = \"\"\"\n",
    "You are a UX/UI expert conducting a cognitive walkthrough of a web application to identify usability issues related to \n",
    "task completion from a user's perspective.\"\"\"\n",
    "\n",
    "demo_user_task = \"\"\"The user wants to view the profile of the person who uploaded the currently visible video.\"\"\"\n",
    "\n",
    "request_for_walkthrough = f\"\"\"\n",
    "You are shown one screenshot of a web interface, before the user takes an action to achieve the task.\n",
    "\n",
    "Identify usability issues a user may face when attempting the following task:\n",
    "\n",
    "**User Task**:  \n",
    "{demo_user_task}\n",
    "\n",
    "Use the following questions as guidance to help you explore the interface from multiple angles. \n",
    "You are NOT limited to one issue per question — you may identify multiple issues inspired by a single question, \n",
    "and some issues may relate to more than one question:\n",
    "- What on the screen might cause confusion to the user when interpreting what they need to do to finish the task?  \n",
    "- What options are not available on the screen that the user might look for in order to finish the task?  \n",
    "- In what way does the app not guide the user toward the correct action?  \n",
    "- What might the user try, think, or misinterpret on the interface?  \n",
    "- What could be unclear to the user prior to interacting with an element?\n",
    "\n",
    "### Output Format:\n",
    "Provide only a **plain enumerated list of issues**, without headings, categories, or extra recommendations.  \n",
    "Each issue should be written in **1-2 short sentences** and must reflect how a user might **perceive, interpret, or react** to the screen.\n",
    "\n",
    "### Example Output:\n",
    "\n",
    "Issues:\n",
    "1. There are two identical buttons, which could confuse users about their functions and the differences between them.  \n",
    "2. Nothing is labeled and it might be unclear to the user what button might lead to where. Adding tooltips or labels might help.  \n",
    "3. The upload icon is placed next to the profile picture, which could lead users to think both do the same thing.\n",
    "\"\"\""
   ]
  },
  {
   "cell_type": "code",
   "execution_count": 23,
   "metadata": {},
   "outputs": [],
   "source": [
    "# Walkthrough demos\n",
    "def encode_image(image_path):\n",
    "    with open(image_path, \"rb\") as image_file:\n",
    "        return base64.b64encode(image_file.read()).decode(\"utf-8\")\n",
    "    \n",
    "def detect_usability_issues_walkthrough1(image_filename1, system_prompt_walkthrough1, request_for_walkthrough1):\n",
    "    image_path1 = os.path.join(os.pardir, \"images\", image_filename1) \n",
    "    \n",
    "    if not os.path.exists(image_path1):\n",
    "        raise FileNotFoundError(f\"Error: The file '{image_path1}' was not found. Check the path.\")\n",
    "\n",
    "    base64_image1 = encode_image(image_path1)\n",
    "\n",
    "    response = client.chat.completions.create(\n",
    "        model=\"gpt-4o\",\n",
    "        messages=[\n",
    "            {\"role\": \"system\", \"content\": system_prompt_walkthrough1},\n",
    "            {\n",
    "                \"role\": \"user\",\n",
    "                \"content\": [\n",
    "                    {\"type\": \"text\", \"text\": request_for_walkthrough1},\n",
    "                    {\n",
    "                        \"type\": \"image_url\",\n",
    "                        \"image_url\": {\n",
    "                            \"url\": f\"data:image/png;base64,{base64_image1}\",\n",
    "                        },\n",
    "                    },\n",
    "                ],\n",
    "            },\n",
    "        ],\n",
    "    )\n",
    "\n",
    "    print(response.choices[0].message.content)"
   ]
  },
  {
   "cell_type": "code",
   "execution_count": null,
   "metadata": {},
   "outputs": [
    {
     "name": "stdout",
     "output_type": "stream",
     "text": [
      "Issues:\n",
      "1. There is no clear label or icon indicating how to view the uploader's profile directly from the video.\n",
      "2. The uploader’s name, \"Davka_overlay,\" is presented but not highlighted or interactive, which may confuse users looking to access the profile.\n",
      "3. The uploader’s profile icon is not distinctly visible, possibly leading users to overlook it.\n",
      "4. The interface lacks a tooltip or indication that clicking the uploader's name or icon would lead to their profile.\n",
      "5. Users might mistake other visible icons (like the heart or comment icon) for options to view the uploader’s profile.\n",
      "6. The three-dot menu icon's function is not immediately clear, leading to potential misinterpretation of its purpose.\n"
     ]
    }
   ],
   "source": [
    "detect_usability_issues_walkthrough1(\"walkthrough-prev.png\", system_prompt_walkthrough, request_for_walkthrough)"
   ]
  },
  {
   "cell_type": "code",
   "execution_count": null,
   "metadata": {},
   "outputs": [],
   "source": [
    "# Walkthrough with a simple prompt version for comparison with the previous prompt\n",
    "\n",
    "system_prompt_walkthrough2 = \"\"\"\n",
    "You are a UX/UI expert conducting a cognitive walkthrough of a web application to identify usability issues related to \n",
    "task completion from a user's perspective.\"\"\"\n",
    "\n",
    "demo_user_task = \"\"\"The user wants to view the profile of the person who uploaded the currently visible video.\"\"\"\n",
    "\n",
    "request_for_walkthrough2 = f\"\"\"\n",
    "You are shown one screenshot of a web interface, before the user takes an action to achieve the task.\n",
    "\n",
    "Identify usability issues a user may face when attempting the following task:\n",
    "\n",
    "**User Task**:  \n",
    "{demo_user_task}\n",
    "\n",
    "Use the following question as guidance to help you explore the interface from multiple angles. \n",
    "You are NOT limited to one issue — you may identify multiple issues inspired by this single question.\n",
    "\n",
    "Question: What aspects of the interface might confuse the user while attempting to accomplish the task? \n",
    "Is complex problem solving needed to figure out what to do and what might the?\n",
    "\n",
    "### Output Format:\n",
    "Provide only a **plain enumerated list of issues**, without headings, categories, or extra recommendations.  \n",
    "Each issue should be written in **1-2 short sentences** and must reflect how a user might **perceive, interpret, or react** to the screen.\n",
    "\n",
    "### Example Output:\n",
    "\n",
    "Issues:\n",
    "1. There are two identical buttons, which could confuse users about their functions and the differences between them.  \n",
    "2. Nothing is labeled and it might be unclear to the user what button might lead to where. Adding tooltips or labels might help.  \n",
    "3. The upload icon is placed next to the profile picture, which could lead users to think both do the same thing.\n",
    "\"\"\""
   ]
  },
  {
   "cell_type": "code",
   "execution_count": 28,
   "metadata": {},
   "outputs": [
    {
     "name": "stdout",
     "output_type": "stream",
     "text": [
      "Issues:\n",
      "1. The profile icon of the uploader might not be visibly distinct among other interactive elements, leading to confusion.\n",
      "2. The username is not highlighted or easily identifiable, making it unclear where to click to view the profile.\n",
      "3. There is no direct label or indication guiding the user to access the uploader's profile.\n",
      "4. The uploader’s profile picture is small and mixed with other icons, which could cause the user to overlook it.\n",
      "5. The interface lacks clear affordances or cues to inform users where to click to complete the task.\n"
     ]
    }
   ],
   "source": [
    "detect_usability_issues_walkthrough1(\"walkthrough-prev.png\", system_prompt_walkthrough2, request_for_walkthrough2)"
   ]
  },
  {
   "cell_type": "code",
   "execution_count": null,
   "metadata": {},
   "outputs": [],
   "source": [
    "# The FINAL prompt with promising results\n",
    "\n",
    "system_prompt_walkthrough3 = \"\"\"\n",
    "You are a UX/UI expert conducting a cognitive walkthrough of a web application to identify usability issues related to \n",
    "task completion from a user's perspective.\"\"\"\n",
    "\n",
    "demo_user_task = \"\"\"The user wants to view the profile of the person who uploaded the currently visible video.\"\"\"\n",
    "demo_correct_action = \"\"\"Click the circle icon with the plus symbol above the likes in order to view the user profile.\"\"\"\n",
    "\n",
    "request_for_walkthrough3 = f\"\"\"\n",
    "You are shown one screenshot of a web interface, before the user takes an action to achieve his task.\n",
    "\n",
    "The user task is: \n",
    "{demo_user_task}\n",
    "The expected action to accomplish the given task above is:\n",
    "{demo_correct_action}\n",
    "\n",
    "Identify usability issues a user may face when attempting the task.\n",
    "\n",
    "Use the following question as guidance to help you explore the interface from multiple angles. \n",
    "You are NOT limited to one issue per question — you may identify multiple issues inspired by a single question, \n",
    "and some issues may relate to more than one question:\n",
    "\n",
    "- What aspects of the interface might confuse the user when trying to complete the task and figure out the what's the correct action?  \n",
    "- What is missing or unclear before the user interacts with anything?\n",
    "- What might the user try instead of the correct action, and why?  \n",
    "\n",
    "### Output Format:\n",
    "Provide only a **plain enumerated list of issues** (5 or more issues), without headings, categories, or extra recommendations.  \n",
    "Each issue should be written in **1-2 short sentences** and must reflect how a user might **perceive, interpret, or react** to the screen.\n",
    "\n",
    "### Example Output:\n",
    "\n",
    "Issues:\n",
    "1. There are two identical buttons, which could confuse users about their functions and the differences between them.  \n",
    "2. Nothing is labeled and it might be unclear to the user what button might lead to where. Adding tooltips or labels might help.  \n",
    "3. The upload icon is placed next to the profile picture, which could lead users to think both do the same thing.\n",
    "\"\"\""
   ]
  },
  {
   "cell_type": "code",
   "execution_count": 44,
   "metadata": {},
   "outputs": [
    {
     "name": "stdout",
     "output_type": "stream",
     "text": [
      "Issues:\n",
      "\n",
      "1. The circle icon with the plus symbol might be misconstrued as a \"follow\" button rather than a profile link.\n",
      "2. There is no label or tooltip indicating that the icon leads to the user profile, causing potential confusion.\n",
      "3. Users might expect to click the username near video details to view the profile, but that area doesn't appear interactive.\n",
      "4. The icon's position above the likes could mislead users to think it relates to liking or favoriting instead.\n",
      "5. The design elements are densely packed, which could make it difficult for users to discern the correct button to click.\n",
      "6. The presence of a plus symbol may imply adding something rather than viewing a profile, conflicting with user expectations.\n",
      "7. Users might think the \"Profile\" option in the sidebar relates to their own profile instead of the video's uploader.\n"
     ]
    }
   ],
   "source": [
    "detect_usability_issues_walkthrough1(\"walkthrough-prev.png\", system_prompt_walkthrough3, request_for_walkthrough3)"
   ]
  },
  {
   "cell_type": "code",
   "execution_count": null,
   "metadata": {},
   "outputs": [
    {
     "name": "stdout",
     "output_type": "stream",
     "text": [
      "Issues:\n",
      "1. The three dots may not be immediately recognizable as the action menu, causing confusion about where to click.\n",
      "2. The list of videos is very close together, which might make it difficult to associate the correct set of dots with the video.\n",
      "3. There is no visual cue or label indicating to users that additional actions can be found under the three dots menu.\n",
      "4. Users might try clicking the video title itself expecting to be able to download directly, leading to frustration.\n",
      "5. The placement of the three dots could cause users to accidentally click the wrong video option due to proximity.\n",
      "6. The download option could be overlooked due to its position in the menu list after opening it.\n"
     ]
    }
   ],
   "source": [
    "demo_user_task1 = \"\"\"The user wants to download a specific video from a list on the right.\"\"\"\n",
    "demo_correct_action1 = \"\"\"Click the three dots next to the video title and click on the download button.\"\"\"\n",
    "\n",
    "request_for_walkthrough4 = f\"\"\"\n",
    "You are shown one screenshot of a web interface, before the user takes an action to achieve his task.\n",
    "\n",
    "The user task is: \n",
    "{demo_user_task1}\n",
    "The expected action to accomplish the given task above is:\n",
    "{demo_correct_action1}\n",
    "\n",
    "Identify usability issues a user may face when attempting the task.\n",
    "\n",
    "Use the following question as guidance to help you explore the interface from multiple angles. \n",
    "You are NOT limited to one issue per question — you may identify multiple issues inspired by a single question, \n",
    "and some issues may relate to more than one question:\n",
    "\n",
    "- What aspects of the interface might confuse the user when trying to complete the task and figure out the what's the correct action?  \n",
    "- What is missing or unclear before the user interacts with anything?\n",
    "- What might the user try instead of the correct action, and why?  \n",
    "\n",
    "### Output Format:\n",
    "Provide only a **plain enumerated list of distinct issues** (5 or more issues), without headings, categories, or extra recommendations.  \n",
    "Each issue should be written in **1-2 short sentences** and must reflect how a user might **perceive, interpret, or react** to the screen.\n",
    "\n",
    "### Example Output:\n",
    "\n",
    "Issues:\n",
    "1. There are two identical buttons, which could confuse users about their functions and the differences between them.  \n",
    "2. Nothing is labeled and it might be unclear to the user what button might lead to where. Adding tooltips or labels might help.  \n",
    "3. The upload icon is placed next to the profile picture, which could lead users to think both do the same thing.\n",
    "\"\"\"\n",
    "\n",
    "detect_usability_issues_walkthrough1(\"walkthrough-prev2.png\", system_prompt_walkthrough3, request_for_walkthrough4)"
   ]
  },
  {
   "cell_type": "code",
   "execution_count": null,
   "metadata": {},
   "outputs": [],
   "source": [
    "system_prompt_walkthrough3 = \"\"\"\n",
    "You are a UX/UI expert conducting a cognitive walkthrough of a web application to identify usability issues related to \n",
    "task completion from a user's perspective.\"\"\"\n",
    "\n",
    "demo_user_task2 = \"\"\"The user wants to view the profile of the person who uploaded the currently visible video.\"\"\"\n",
    "demo_correct_action2 = \"\"\"Click the circle icon with the plus symbol above the likes in order to view the user profile.\"\"\"\n",
    "\n",
    "history = \"\"\"You are given an image of the web interface **before** the user has taken the correct action. \n",
    "Use this interface as a reference for further analyzing the transition and identifing any **potential usability issues**.\"\"\"\n",
    "\n",
    "request_for_feedback = f\"\"\"\n",
    "You are shown one screenshot of a web interface, **after** the user has taken the correct action to complete the following task:\n",
    "\n",
    "**User Task**:  \n",
    "{demo_user_task2}\n",
    "\n",
    "**Correct Action Taken by User**:  \n",
    "{demo_correct_action2}\n",
    "\n",
    "Your job is to identify usability issues related to how well the interface communicates feedback *after* the action.\n",
    "\n",
    "### Use the following guiding question:\n",
    "- After the user does the correct action, will they know that they did the right action and are making progress toward their goal?\n",
    "- Is complex problem solving needed to interpret the feedback?\n",
    "\n",
    "### Output Format:\n",
    "Provide only a **plain enumerated list of issues** (2 or more), without headings, categories, or extra recommendations.  \n",
    "Each issue should be written in **1-2 short sentences**, based on what a user might **perceive, interpret, or feel** after performing the action.\n",
    "\n",
    "### Example Output:\n",
    "\n",
    "Issues:\n",
    "1. After clicking the icon, nothing visually changes on the screen, leaving the user uncertain if the action worked.  \n",
    "2. There is no loading indicator or transition effect, so the user might think the interface is unresponsive.  \n",
    "3. The screen changes but doesn't clearly show that the user is now on the uploader's profile, which might confuse them.\n",
    "\"\"\"\n"
   ]
  },
  {
   "cell_type": "code",
   "execution_count": 55,
   "metadata": {},
   "outputs": [],
   "source": [
    "def detect_usability_issues_walkthrough2(image_filename1, image_filename2, system_prompt_walkthrough1, request_for_feedback):\n",
    "    image_path1 = os.path.join(os.pardir, \"images\", image_filename1) \n",
    "    image_path2 = os.path.join(os.pardir, \"images\", image_filename2) \n",
    "    \n",
    "    if not os.path.exists(image_path1):\n",
    "        raise FileNotFoundError(f\"Error: The file '{image_path1}' was not found. Check the path.\")\n",
    "    \n",
    "    if not os.path.exists(image_path2):\n",
    "        raise FileNotFoundError(f\"Error: The file '{image_path2}' was not found. Check the path.\")\n",
    "    \n",
    "    base64_image1 = encode_image(image_path1)\n",
    "    base64_image2 = encode_image(image_path2)\n",
    "\n",
    "    response = client.chat.completions.create(\n",
    "        model=\"gpt-4o\",\n",
    "        messages=[\n",
    "            {\"role\": \"system\", \"content\": system_prompt_walkthrough1},\n",
    "            {\n",
    "                \"role\": \"user\",\n",
    "                \"content\": [\n",
    "                    {\"type\": \"text\", \"text\": history},\n",
    "                    {\n",
    "                        \"type\": \"image_url\",\n",
    "                        \"image_url\": {\n",
    "                            \"url\": f\"data:image/png;base64,{base64_image1}\",\n",
    "                        },\n",
    "                    },\n",
    "                ],\n",
    "            },\n",
    "            {\n",
    "                \"role\": \"user\",\n",
    "                \"content\": [\n",
    "                    {\"type\": \"text\", \"text\": request_for_feedback},\n",
    "                    {\n",
    "                        \"type\": \"image_url\",\n",
    "                        \"image_url\": {\n",
    "                            \"url\": f\"data:image/png;base64,{base64_image2}\",\n",
    "                        },\n",
    "                    },\n",
    "                ],\n",
    "            },\n",
    "        ],\n",
    "    )\n",
    "\n",
    "    print(response.choices[0].message.content)"
   ]
  },
  {
   "cell_type": "code",
   "execution_count": 56,
   "metadata": {},
   "outputs": [
    {
     "name": "stdout",
     "output_type": "stream",
     "text": [
      "Issues:\n",
      "1. The transition to the profile page is not visually distinct, which may leave the user unsure if the action was successful.\n",
      "2. There is no clear indication or message confirming that the user is now viewing the uploader's profile.\n",
      "3. The interface lacks a visual cue that the profile view has changed from the previous screen, leading to possible confusion.\n",
      "4. Important information about the user profile is not highlighted, making it difficult for the user to verify the action.\n",
      "5. Without a loading indicator, users might suspect a delay or error in loading the profile page.\n"
     ]
    }
   ],
   "source": [
    "detect_usability_issues_walkthrough2(\"walkthrough-prev.png\", \"walkthrough-aft.png\", system_prompt_walkthrough3, request_for_feedback)"
   ]
  }
 ],
 "metadata": {
  "kernelspec": {
   "display_name": "Python 3",
   "language": "python",
   "name": "python3"
  },
  "language_info": {
   "codemirror_mode": {
    "name": "ipython",
    "version": 3
   },
   "file_extension": ".py",
   "mimetype": "text/x-python",
   "name": "python",
   "nbconvert_exporter": "python",
   "pygments_lexer": "ipython3",
   "version": "3.11.5"
  }
 },
 "nbformat": 4,
 "nbformat_minor": 2
}
